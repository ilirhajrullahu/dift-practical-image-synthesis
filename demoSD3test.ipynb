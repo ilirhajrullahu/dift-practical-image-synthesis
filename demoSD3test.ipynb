{
 "cells": [
  {
   "cell_type": "code",
   "execution_count": 1,
   "metadata": {},
   "outputs": [
    {
     "name": "stdout",
     "output_type": "stream",
     "text": [
      "Requirement already satisfied: torch in c:\\users\\ludenbold\\anaconda3\\envs\\prakdift\\lib\\site-packages (2.5.1+cu124)\n",
      "Requirement already satisfied: diffusers in c:\\users\\ludenbold\\anaconda3\\envs\\prakdift\\lib\\site-packages (0.13.0)\n",
      "Requirement already satisfied: transformers in c:\\users\\ludenbold\\anaconda3\\envs\\prakdift\\lib\\site-packages (4.46.2)\n",
      "Requirement already satisfied: safetensors in c:\\users\\ludenbold\\anaconda3\\envs\\prakdift\\lib\\site-packages (0.4.5)\n",
      "Requirement already satisfied: matplotlib in c:\\users\\ludenbold\\anaconda3\\envs\\prakdift\\lib\\site-packages (3.9.2)\n",
      "Requirement already satisfied: pillow in c:\\users\\ludenbold\\anaconda3\\envs\\prakdift\\lib\\site-packages (10.4.0)\n",
      "Requirement already satisfied: filelock in c:\\users\\ludenbold\\anaconda3\\envs\\prakdift\\lib\\site-packages (from torch) (3.16.1)\n",
      "Requirement already satisfied: typing-extensions>=4.8.0 in c:\\users\\ludenbold\\anaconda3\\envs\\prakdift\\lib\\site-packages (from torch) (4.11.0)\n",
      "Requirement already satisfied: networkx in c:\\users\\ludenbold\\anaconda3\\envs\\prakdift\\lib\\site-packages (from torch) (3.2.1)\n",
      "Requirement already satisfied: jinja2 in c:\\users\\ludenbold\\anaconda3\\envs\\prakdift\\lib\\site-packages (from torch) (3.1.4)\n",
      "Requirement already satisfied: fsspec in c:\\users\\ludenbold\\anaconda3\\envs\\prakdift\\lib\\site-packages (from torch) (2024.10.0)\n",
      "Requirement already satisfied: sympy==1.13.1 in c:\\users\\ludenbold\\anaconda3\\envs\\prakdift\\lib\\site-packages (from torch) (1.13.1)\n",
      "Requirement already satisfied: mpmath<1.4,>=1.1.0 in c:\\users\\ludenbold\\anaconda3\\envs\\prakdift\\lib\\site-packages (from sympy==1.13.1->torch) (1.3.0)\n",
      "Requirement already satisfied: importlib-metadata in c:\\users\\ludenbold\\anaconda3\\envs\\prakdift\\lib\\site-packages (from diffusers) (8.5.0)\n",
      "Requirement already satisfied: huggingface-hub>=0.10.0 in c:\\users\\ludenbold\\anaconda3\\envs\\prakdift\\lib\\site-packages (from diffusers) (0.25.0)\n",
      "Requirement already satisfied: numpy in c:\\users\\ludenbold\\anaconda3\\envs\\prakdift\\lib\\site-packages (from diffusers) (1.26.4)\n",
      "Requirement already satisfied: regex!=2019.12.17 in c:\\users\\ludenbold\\anaconda3\\envs\\prakdift\\lib\\site-packages (from diffusers) (2024.11.6)\n",
      "Requirement already satisfied: requests in c:\\users\\ludenbold\\anaconda3\\envs\\prakdift\\lib\\site-packages (from diffusers) (2.32.3)\n",
      "Requirement already satisfied: packaging>=20.0 in c:\\users\\ludenbold\\anaconda3\\envs\\prakdift\\lib\\site-packages (from transformers) (24.1)\n",
      "Requirement already satisfied: pyyaml>=5.1 in c:\\users\\ludenbold\\anaconda3\\envs\\prakdift\\lib\\site-packages (from transformers) (6.0.2)\n",
      "Requirement already satisfied: tokenizers<0.21,>=0.20 in c:\\users\\ludenbold\\anaconda3\\envs\\prakdift\\lib\\site-packages (from transformers) (0.20.3)\n",
      "Requirement already satisfied: tqdm>=4.27 in c:\\users\\ludenbold\\anaconda3\\envs\\prakdift\\lib\\site-packages (from transformers) (4.67.0)\n",
      "Requirement already satisfied: contourpy>=1.0.1 in c:\\users\\ludenbold\\anaconda3\\envs\\prakdift\\lib\\site-packages (from matplotlib) (1.3.0)\n",
      "Requirement already satisfied: cycler>=0.10 in c:\\users\\ludenbold\\anaconda3\\envs\\prakdift\\lib\\site-packages (from matplotlib) (0.12.1)\n",
      "Requirement already satisfied: fonttools>=4.22.0 in c:\\users\\ludenbold\\anaconda3\\envs\\prakdift\\lib\\site-packages (from matplotlib) (4.54.1)\n",
      "Requirement already satisfied: kiwisolver>=1.3.1 in c:\\users\\ludenbold\\anaconda3\\envs\\prakdift\\lib\\site-packages (from matplotlib) (1.4.7)\n",
      "Requirement already satisfied: pyparsing>=2.3.1 in c:\\users\\ludenbold\\anaconda3\\envs\\prakdift\\lib\\site-packages (from matplotlib) (3.2.0)\n",
      "Requirement already satisfied: python-dateutil>=2.7 in c:\\users\\ludenbold\\anaconda3\\envs\\prakdift\\lib\\site-packages (from matplotlib) (2.9.0.post0)\n",
      "Requirement already satisfied: six>=1.5 in c:\\users\\ludenbold\\anaconda3\\envs\\prakdift\\lib\\site-packages (from python-dateutil>=2.7->matplotlib) (1.16.0)\n",
      "Requirement already satisfied: colorama in c:\\users\\ludenbold\\anaconda3\\envs\\prakdift\\lib\\site-packages (from tqdm>=4.27->transformers) (0.4.6)\n",
      "Requirement already satisfied: zipp>=3.20 in c:\\users\\ludenbold\\anaconda3\\envs\\prakdift\\lib\\site-packages (from importlib-metadata->diffusers) (3.20.2)\n",
      "Requirement already satisfied: MarkupSafe>=2.0 in c:\\users\\ludenbold\\anaconda3\\envs\\prakdift\\lib\\site-packages (from jinja2->torch) (3.0.2)\n",
      "Requirement already satisfied: charset-normalizer<4,>=2 in c:\\users\\ludenbold\\anaconda3\\envs\\prakdift\\lib\\site-packages (from requests->diffusers) (3.3.2)\n",
      "Requirement already satisfied: idna<4,>=2.5 in c:\\users\\ludenbold\\anaconda3\\envs\\prakdift\\lib\\site-packages (from requests->diffusers) (3.7)\n",
      "Requirement already satisfied: urllib3<3,>=1.21.1 in c:\\users\\ludenbold\\anaconda3\\envs\\prakdift\\lib\\site-packages (from requests->diffusers) (2.2.3)\n",
      "Requirement already satisfied: certifi>=2017.4.17 in c:\\users\\ludenbold\\anaconda3\\envs\\prakdift\\lib\\site-packages (from requests->diffusers) (2024.8.30)\n",
      "Requirement already satisfied: diffusers==0.13.0 in c:\\users\\ludenbold\\anaconda3\\envs\\prakdift\\lib\\site-packages (0.13.0)\n",
      "Requirement already satisfied: importlib-metadata in c:\\users\\ludenbold\\anaconda3\\envs\\prakdift\\lib\\site-packages (from diffusers==0.13.0) (8.5.0)\n",
      "Requirement already satisfied: filelock in c:\\users\\ludenbold\\anaconda3\\envs\\prakdift\\lib\\site-packages (from diffusers==0.13.0) (3.16.1)\n",
      "Requirement already satisfied: huggingface-hub>=0.10.0 in c:\\users\\ludenbold\\anaconda3\\envs\\prakdift\\lib\\site-packages (from diffusers==0.13.0) (0.25.0)\n",
      "Requirement already satisfied: numpy in c:\\users\\ludenbold\\anaconda3\\envs\\prakdift\\lib\\site-packages (from diffusers==0.13.0) (1.26.4)\n",
      "Requirement already satisfied: regex!=2019.12.17 in c:\\users\\ludenbold\\anaconda3\\envs\\prakdift\\lib\\site-packages (from diffusers==0.13.0) (2024.11.6)\n",
      "Requirement already satisfied: requests in c:\\users\\ludenbold\\anaconda3\\envs\\prakdift\\lib\\site-packages (from diffusers==0.13.0) (2.32.3)\n",
      "Requirement already satisfied: Pillow in c:\\users\\ludenbold\\anaconda3\\envs\\prakdift\\lib\\site-packages (from diffusers==0.13.0) (10.4.0)\n",
      "Requirement already satisfied: fsspec>=2023.5.0 in c:\\users\\ludenbold\\anaconda3\\envs\\prakdift\\lib\\site-packages (from huggingface-hub>=0.10.0->diffusers==0.13.0) (2024.10.0)\n",
      "Requirement already satisfied: packaging>=20.9 in c:\\users\\ludenbold\\anaconda3\\envs\\prakdift\\lib\\site-packages (from huggingface-hub>=0.10.0->diffusers==0.13.0) (24.1)\n",
      "Requirement already satisfied: pyyaml>=5.1 in c:\\users\\ludenbold\\anaconda3\\envs\\prakdift\\lib\\site-packages (from huggingface-hub>=0.10.0->diffusers==0.13.0) (6.0.2)\n",
      "Requirement already satisfied: tqdm>=4.42.1 in c:\\users\\ludenbold\\anaconda3\\envs\\prakdift\\lib\\site-packages (from huggingface-hub>=0.10.0->diffusers==0.13.0) (4.67.0)\n",
      "Requirement already satisfied: typing-extensions>=3.7.4.3 in c:\\users\\ludenbold\\anaconda3\\envs\\prakdift\\lib\\site-packages (from huggingface-hub>=0.10.0->diffusers==0.13.0) (4.11.0)\n",
      "Requirement already satisfied: zipp>=3.20 in c:\\users\\ludenbold\\anaconda3\\envs\\prakdift\\lib\\site-packages (from importlib-metadata->diffusers==0.13.0) (3.20.2)\n",
      "Requirement already satisfied: charset-normalizer<4,>=2 in c:\\users\\ludenbold\\anaconda3\\envs\\prakdift\\lib\\site-packages (from requests->diffusers==0.13.0) (3.3.2)\n",
      "Requirement already satisfied: idna<4,>=2.5 in c:\\users\\ludenbold\\anaconda3\\envs\\prakdift\\lib\\site-packages (from requests->diffusers==0.13.0) (3.7)\n",
      "Requirement already satisfied: urllib3<3,>=1.21.1 in c:\\users\\ludenbold\\anaconda3\\envs\\prakdift\\lib\\site-packages (from requests->diffusers==0.13.0) (2.2.3)\n",
      "Requirement already satisfied: certifi>=2017.4.17 in c:\\users\\ludenbold\\anaconda3\\envs\\prakdift\\lib\\site-packages (from requests->diffusers==0.13.0) (2024.8.30)\n",
      "Requirement already satisfied: colorama in c:\\users\\ludenbold\\anaconda3\\envs\\prakdift\\lib\\site-packages (from tqdm>=4.42.1->huggingface-hub>=0.10.0->diffusers==0.13.0) (0.4.6)\n"
     ]
    },
    {
     "name": "stderr",
     "output_type": "stream",
     "text": [
      "c:\\Users\\Ludenbold\\anaconda3\\envs\\PrakDiFT\\lib\\site-packages\\torchvision\\io\\image.py:13: UserWarning: Failed to load image Python extension: [WinError 127] Die angegebene Prozedur wurde nicht gefunden\n",
      "  warn(f\"Failed to load image Python extension: {e}\")\n"
     ]
    }
   ],
   "source": [
    "%matplotlib widget\n",
    "# Demo for DIFT with Stable Diffusion 3\n",
    "\n",
    "# Ensure required libraries are installed\n",
    "!pip install torch diffusers transformers safetensors matplotlib pillow\n",
    "!pip install diffusers==0.13.0\n",
    "\n",
    "# Import Libraries and Initialize Featurizer\n",
    "from src.models.dift_sd import SDFeaturizer\n",
    "from torchvision.transforms import PILToTensor\n",
    "from PIL import Image\n",
    "import torch"
   ]
  },
  {
   "cell_type": "code",
   "execution_count": null,
   "metadata": {},
   "outputs": [
    {
     "data": {
      "application/vnd.jupyter.widget-view+json": {
       "model_id": "3049d1fb97ab43528e457c5544b3af8c",
       "version_major": 2,
       "version_minor": 0
      },
      "text/plain": [
       "VBox(children=(HTML(value='<center> <img\\nsrc=https://huggingface.co/front/assets/huggingface_logo-noborder.sv…"
      ]
     },
     "metadata": {},
     "output_type": "display_data"
    }
   ],
   "source": [
    "#Login to Hugging Face to access the model\n",
    "#from huggingface_hub import login\n",
    "#login()\n",
    "\n",
    "#not necessary now because of local model file"
   ]
  },
  {
   "cell_type": "code",
   "execution_count": 2,
   "metadata": {},
   "outputs": [
    {
     "name": "stdout",
     "output_type": "stream",
     "text": [
      "True\n"
     ]
    }
   ],
   "source": [
    "import os\n",
    "print(os.path.exists(\"./sd3_medium.safetensors\"))  # Should return True"
   ]
  },
  {
   "cell_type": "code",
   "execution_count": 3,
   "metadata": {},
   "outputs": [
    {
     "name": "stderr",
     "output_type": "stream",
     "text": [
      "c:\\Users\\Ludenbold\\anaconda3\\envs\\PrakDiFT\\lib\\site-packages\\torch\\nn\\modules\\transformer.py:379: UserWarning: enable_nested_tensor is True, but self.use_nested_tensor is False because encoder_layer.self_attn.batch_first was not True(use batch_first for better inference performance)\n",
      "  warnings.warn(\n",
      "c:\\Users\\Ludenbold\\anaconda3\\envs\\PrakDiFT\\lib\\site-packages\\huggingface_hub\\file_download.py:1142: FutureWarning: `resume_download` is deprecated and will be removed in version 1.0.0. Downloads always resume when possible. If you want to force a new download, use `force_download=True`.\n",
      "  warnings.warn(\n"
     ]
    }
   ],
   "source": [
    "# Initialize the SDFeaturizer for Stable Diffusion 3\n",
    "# Assuming 'sd3_medium.safetensors' is in the same directory as 'demoSD3test.ipynb'\n",
    "import os\n",
    "\n",
    "current_dir = os.path.dirname(os.path.abspath(\"./dift_sd.py\"))  # Get the current directory of dift_sd.py\n",
    "model_path = os.path.join(current_dir, \"sd3_medium.safetensors\")\n",
    "featurizer = SDFeaturizer(model_path=model_path)"
   ]
  },
  {
   "cell_type": "code",
   "execution_count": 4,
   "metadata": {},
   "outputs": [],
   "source": [
    "# Load and Process a Sample Image\n",
    "img_path = \"./assets/cat.png\"  # Replace with your image path\n",
    "img = Image.open(img_path).convert(\"RGB\")"
   ]
  },
  {
   "cell_type": "code",
   "execution_count": 5,
   "metadata": {},
   "outputs": [],
   "source": [
    "# Convert to tensor and normalize\n",
    "img_tensor = (PILToTensor()(img) / 255.0 - 0.5) * 2\n",
    "img_tensor = img_tensor.unsqueeze(0).cuda()  # [1, C, H, W]"
   ]
  },
  {
   "cell_type": "code",
   "execution_count": 6,
   "metadata": {},
   "outputs": [
    {
     "name": "stderr",
     "output_type": "stream",
     "text": [
      "c:\\Users\\Ludenbold\\Desktop\\Master V\\Image&Video Synthesis Prak\\dift-practical-image-synthesis\\src\\models\\dift_sd.py:147: FutureWarning: `torch.cuda.amp.autocast(args...)` is deprecated. Please use `torch.amp.autocast('cuda', args...)` instead.\n",
      "  with torch.cuda.amp.autocast():\n",
      "c:\\Users\\Ludenbold\\Desktop\\Master V\\Image&Video Synthesis Prak\\dift-practical-image-synthesis\\src\\models\\dift_sd.py:163: FutureWarning: `torch.cuda.amp.autocast(args...)` is deprecated. Please use `torch.amp.autocast('cuda', args...)` instead.\n",
      "  with torch.cuda.amp.autocast():\n"
     ]
    },
    {
     "ename": "RuntimeError",
     "evalue": "the batch number of src and tgt must be equal",
     "output_type": "error",
     "traceback": [
      "\u001b[1;31m---------------------------------------------------------------------------\u001b[0m",
      "\u001b[1;31mRuntimeError\u001b[0m                              Traceback (most recent call last)",
      "Cell \u001b[1;32mIn[6], line 4\u001b[0m\n\u001b[0;32m      2\u001b[0m prompt \u001b[38;5;241m=\u001b[39m \u001b[38;5;124m\"\u001b[39m\u001b[38;5;124ma photo of a cat\u001b[39m\u001b[38;5;124m\"\u001b[39m\n\u001b[0;32m      3\u001b[0m \u001b[38;5;66;03m#features = featurizer.forward(img_tensor, prompt=prompt, t=261, up_ft_index=1)\u001b[39;00m\n\u001b[1;32m----> 4\u001b[0m features \u001b[38;5;241m=\u001b[39m \u001b[43mfeaturizer\u001b[49m\u001b[38;5;241;43m.\u001b[39;49m\u001b[43mforward\u001b[49m\u001b[43m(\u001b[49m\u001b[43mimg_tensor\u001b[49m\u001b[43m,\u001b[49m\u001b[43m \u001b[49m\u001b[43mprompt\u001b[49m\u001b[38;5;241;43m=\u001b[39;49m\u001b[43mprompt\u001b[49m\u001b[43m,\u001b[49m\u001b[43m \u001b[49m\u001b[43mt\u001b[49m\u001b[38;5;241;43m=\u001b[39;49m\u001b[38;5;241;43m261\u001b[39;49m\u001b[43m)\u001b[49m\n",
      "File \u001b[1;32mc:\\Users\\Ludenbold\\anaconda3\\envs\\PrakDiFT\\lib\\site-packages\\torch\\utils\\_contextlib.py:116\u001b[0m, in \u001b[0;36mcontext_decorator.<locals>.decorate_context\u001b[1;34m(*args, **kwargs)\u001b[0m\n\u001b[0;32m    113\u001b[0m \u001b[38;5;129m@functools\u001b[39m\u001b[38;5;241m.\u001b[39mwraps(func)\n\u001b[0;32m    114\u001b[0m \u001b[38;5;28;01mdef\u001b[39;00m \u001b[38;5;21mdecorate_context\u001b[39m(\u001b[38;5;241m*\u001b[39margs, \u001b[38;5;241m*\u001b[39m\u001b[38;5;241m*\u001b[39mkwargs):\n\u001b[0;32m    115\u001b[0m     \u001b[38;5;28;01mwith\u001b[39;00m ctx_factory():\n\u001b[1;32m--> 116\u001b[0m         \u001b[38;5;28;01mreturn\u001b[39;00m func(\u001b[38;5;241m*\u001b[39margs, \u001b[38;5;241m*\u001b[39m\u001b[38;5;241m*\u001b[39mkwargs)\n",
      "File \u001b[1;32mc:\\Users\\Ludenbold\\Desktop\\Master V\\Image&Video Synthesis Prak\\dift-practical-image-synthesis\\src\\models\\dift_sd.py:164\u001b[0m, in \u001b[0;36mSDFeaturizer.forward\u001b[1;34m(self, img_tensor, prompt, t)\u001b[0m\n\u001b[0;32m    162\u001b[0m \u001b[38;5;66;03m# Process the noisy latents through MM-DiT\u001b[39;00m\n\u001b[0;32m    163\u001b[0m \u001b[38;5;28;01mwith\u001b[39;00m torch\u001b[38;5;241m.\u001b[39mcuda\u001b[38;5;241m.\u001b[39mamp\u001b[38;5;241m.\u001b[39mautocast():\n\u001b[1;32m--> 164\u001b[0m     features \u001b[38;5;241m=\u001b[39m \u001b[38;5;28;43mself\u001b[39;49m\u001b[38;5;241;43m.\u001b[39;49m\u001b[43mmm_dit\u001b[49m\u001b[43m(\u001b[49m\u001b[43mnoisy_latents\u001b[49m\u001b[43m,\u001b[49m\u001b[43m \u001b[49m\u001b[43mprompt_embeds\u001b[49m\u001b[43m)\u001b[49m\n\u001b[0;32m    166\u001b[0m \u001b[38;5;66;03m# Clear unused memory\u001b[39;00m\n\u001b[0;32m    167\u001b[0m torch\u001b[38;5;241m.\u001b[39mcuda\u001b[38;5;241m.\u001b[39mempty_cache()\n",
      "File \u001b[1;32mc:\\Users\\Ludenbold\\anaconda3\\envs\\PrakDiFT\\lib\\site-packages\\torch\\nn\\modules\\module.py:1736\u001b[0m, in \u001b[0;36mModule._wrapped_call_impl\u001b[1;34m(self, *args, **kwargs)\u001b[0m\n\u001b[0;32m   1734\u001b[0m     \u001b[38;5;28;01mreturn\u001b[39;00m \u001b[38;5;28mself\u001b[39m\u001b[38;5;241m.\u001b[39m_compiled_call_impl(\u001b[38;5;241m*\u001b[39margs, \u001b[38;5;241m*\u001b[39m\u001b[38;5;241m*\u001b[39mkwargs)  \u001b[38;5;66;03m# type: ignore[misc]\u001b[39;00m\n\u001b[0;32m   1735\u001b[0m \u001b[38;5;28;01melse\u001b[39;00m:\n\u001b[1;32m-> 1736\u001b[0m     \u001b[38;5;28;01mreturn\u001b[39;00m \u001b[38;5;28mself\u001b[39m\u001b[38;5;241m.\u001b[39m_call_impl(\u001b[38;5;241m*\u001b[39margs, \u001b[38;5;241m*\u001b[39m\u001b[38;5;241m*\u001b[39mkwargs)\n",
      "File \u001b[1;32mc:\\Users\\Ludenbold\\anaconda3\\envs\\PrakDiFT\\lib\\site-packages\\torch\\nn\\modules\\module.py:1747\u001b[0m, in \u001b[0;36mModule._call_impl\u001b[1;34m(self, *args, **kwargs)\u001b[0m\n\u001b[0;32m   1742\u001b[0m \u001b[38;5;66;03m# If we don't have any hooks, we want to skip the rest of the logic in\u001b[39;00m\n\u001b[0;32m   1743\u001b[0m \u001b[38;5;66;03m# this function, and just call forward.\u001b[39;00m\n\u001b[0;32m   1744\u001b[0m \u001b[38;5;28;01mif\u001b[39;00m \u001b[38;5;129;01mnot\u001b[39;00m (\u001b[38;5;28mself\u001b[39m\u001b[38;5;241m.\u001b[39m_backward_hooks \u001b[38;5;129;01mor\u001b[39;00m \u001b[38;5;28mself\u001b[39m\u001b[38;5;241m.\u001b[39m_backward_pre_hooks \u001b[38;5;129;01mor\u001b[39;00m \u001b[38;5;28mself\u001b[39m\u001b[38;5;241m.\u001b[39m_forward_hooks \u001b[38;5;129;01mor\u001b[39;00m \u001b[38;5;28mself\u001b[39m\u001b[38;5;241m.\u001b[39m_forward_pre_hooks\n\u001b[0;32m   1745\u001b[0m         \u001b[38;5;129;01mor\u001b[39;00m _global_backward_pre_hooks \u001b[38;5;129;01mor\u001b[39;00m _global_backward_hooks\n\u001b[0;32m   1746\u001b[0m         \u001b[38;5;129;01mor\u001b[39;00m _global_forward_hooks \u001b[38;5;129;01mor\u001b[39;00m _global_forward_pre_hooks):\n\u001b[1;32m-> 1747\u001b[0m     \u001b[38;5;28;01mreturn\u001b[39;00m forward_call(\u001b[38;5;241m*\u001b[39margs, \u001b[38;5;241m*\u001b[39m\u001b[38;5;241m*\u001b[39mkwargs)\n\u001b[0;32m   1749\u001b[0m result \u001b[38;5;241m=\u001b[39m \u001b[38;5;28;01mNone\u001b[39;00m\n\u001b[0;32m   1750\u001b[0m called_always_called_hooks \u001b[38;5;241m=\u001b[39m \u001b[38;5;28mset\u001b[39m()\n",
      "File \u001b[1;32mc:\\Users\\Ludenbold\\anaconda3\\envs\\PrakDiFT\\lib\\site-packages\\torch\\nn\\modules\\transformer.py:263\u001b[0m, in \u001b[0;36mTransformer.forward\u001b[1;34m(self, src, tgt, src_mask, tgt_mask, memory_mask, src_key_padding_mask, tgt_key_padding_mask, memory_key_padding_mask, src_is_causal, tgt_is_causal, memory_is_causal)\u001b[0m\n\u001b[0;32m    261\u001b[0m is_batched \u001b[38;5;241m=\u001b[39m src\u001b[38;5;241m.\u001b[39mdim() \u001b[38;5;241m==\u001b[39m \u001b[38;5;241m3\u001b[39m\n\u001b[0;32m    262\u001b[0m \u001b[38;5;28;01mif\u001b[39;00m \u001b[38;5;129;01mnot\u001b[39;00m \u001b[38;5;28mself\u001b[39m\u001b[38;5;241m.\u001b[39mbatch_first \u001b[38;5;129;01mand\u001b[39;00m src\u001b[38;5;241m.\u001b[39msize(\u001b[38;5;241m1\u001b[39m) \u001b[38;5;241m!=\u001b[39m tgt\u001b[38;5;241m.\u001b[39msize(\u001b[38;5;241m1\u001b[39m) \u001b[38;5;129;01mand\u001b[39;00m is_batched:\n\u001b[1;32m--> 263\u001b[0m     \u001b[38;5;28;01mraise\u001b[39;00m \u001b[38;5;167;01mRuntimeError\u001b[39;00m(\u001b[38;5;124m\"\u001b[39m\u001b[38;5;124mthe batch number of src and tgt must be equal\u001b[39m\u001b[38;5;124m\"\u001b[39m)\n\u001b[0;32m    264\u001b[0m \u001b[38;5;28;01melif\u001b[39;00m \u001b[38;5;28mself\u001b[39m\u001b[38;5;241m.\u001b[39mbatch_first \u001b[38;5;129;01mand\u001b[39;00m src\u001b[38;5;241m.\u001b[39msize(\u001b[38;5;241m0\u001b[39m) \u001b[38;5;241m!=\u001b[39m tgt\u001b[38;5;241m.\u001b[39msize(\u001b[38;5;241m0\u001b[39m) \u001b[38;5;129;01mand\u001b[39;00m is_batched:\n\u001b[0;32m    265\u001b[0m     \u001b[38;5;28;01mraise\u001b[39;00m \u001b[38;5;167;01mRuntimeError\u001b[39;00m(\u001b[38;5;124m\"\u001b[39m\u001b[38;5;124mthe batch number of src and tgt must be equal\u001b[39m\u001b[38;5;124m\"\u001b[39m)\n",
      "\u001b[1;31mRuntimeError\u001b[0m: the batch number of src and tgt must be equal"
     ]
    }
   ],
   "source": [
    "# Extract Features from MM-DiT Blocks\n",
    "prompt = \"a photo of a cat\"\n",
    "#features = featurizer.forward(img_tensor, prompt=prompt, t=261, up_ft_index=1)\n",
    "features = featurizer.forward(img_tensor, prompt=prompt, t=261)"
   ]
  },
  {
   "cell_type": "code",
   "execution_count": null,
   "metadata": {},
   "outputs": [],
   "source": [
    "# Display feature shape to confirm success\n",
    "print(\"Extracted feature shape:\", features.shape)"
   ]
  },
  {
   "cell_type": "code",
   "execution_count": null,
   "metadata": {},
   "outputs": [],
   "source": [
    "# Visualize or Process Extracted Features\n",
    "import matplotlib.pyplot as plt"
   ]
  },
  {
   "cell_type": "code",
   "execution_count": null,
   "metadata": {},
   "outputs": [],
   "source": [
    "if features.dim() == 4:\n",
    "    feature_map = features[0, 0].cpu().numpy()  # Extract the first channel\n",
    "    plt.imshow(feature_map, cmap=\"viridis\")\n",
    "    plt.colorbar()\n",
    "    plt.title(\"Feature Map Visualization\")\n",
    "    plt.show()\n",
    "else:\n",
    "    print(\"Features are not spatial maps; check dimensions.\")"
   ]
  }
 ],
 "metadata": {
  "kernelspec": {
   "display_name": "PrakDiFT",
   "language": "python",
   "name": "python3"
  },
  "language_info": {
   "codemirror_mode": {
    "name": "ipython",
    "version": 3
   },
   "file_extension": ".py",
   "mimetype": "text/x-python",
   "name": "python",
   "nbconvert_exporter": "python",
   "pygments_lexer": "ipython3",
   "version": "3.10.15"
  }
 },
 "nbformat": 4,
 "nbformat_minor": 2
}
