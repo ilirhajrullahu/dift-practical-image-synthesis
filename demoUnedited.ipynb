{
 "cells": [
  {
   "cell_type": "code",
   "execution_count": null,
   "id": "f6e50bfe-edb9-4932-bf43-39f047bf36d1",
   "metadata": {},
   "outputs": [
    {
     "name": "stderr",
     "output_type": "stream",
     "text": [
      "c:\\Users\\Ludenbold\\anaconda3\\envs\\PrakDiFT\\lib\\site-packages\\torchvision\\io\\image.py:13: UserWarning: Failed to load image Python extension: [WinError 127] Die angegebene Prozedur wurde nicht gefunden\n",
      "  warn(f\"Failed to load image Python extension: {e}\")\n"
     ]
    }
   ],
   "source": [
    "%matplotlib widget\n",
    "import argparse\n",
    "import gc\n",
    "import random\n",
    "import torch\n",
    "from PIL import Image\n",
    "from torchvision.transforms import PILToTensor\n",
    "from src.models.dift_sd import SDFeaturizer\n",
    "from src.utils.visualization import Demo"
   ]
  },
  {
   "cell_type": "code",
   "execution_count": 2,
   "id": "85e967e6-ca78-424d-ac69-2bc2c0bd744f",
   "metadata": {},
   "outputs": [],
   "source": [
    "torch.cuda.set_device(0)"
   ]
  },
  {
   "cell_type": "code",
   "execution_count": null,
   "id": "e502f58d",
   "metadata": {},
   "outputs": [
    {
     "data": {
      "application/vnd.jupyter.widget-view+json": {
       "model_id": "2cb383c6d3d24dba8580bb93488475c0",
       "version_major": 2,
       "version_minor": 0
      },
      "text/plain": [
       "VBox(children=(HTML(value='<center> <img\\nsrc=https://huggingface.co/front/assets/huggingface_logo-noborder.sv…"
      ]
     },
     "metadata": {},
     "output_type": "display_data"
    }
   ],
   "source": []
  },
  {
   "cell_type": "code",
   "execution_count": 4,
   "id": "1bf04cbe-b63d-4484-9918-7fac9f3506e9",
   "metadata": {},
   "outputs": [
    {
     "name": "stderr",
     "output_type": "stream",
     "text": [
      "c:\\Users\\Ludenbold\\anaconda3\\envs\\PrakDiFT\\lib\\site-packages\\huggingface_hub\\file_download.py:1142: FutureWarning: `resume_download` is deprecated and will be removed in version 1.0.0. Downloads always resume when possible. If you want to force a new download, use `force_download=True`.\n",
      "  warnings.warn(\n",
      "vae\\diffusion_pytorch_model.safetensors not found\n",
      "c:\\Users\\Ludenbold\\anaconda3\\envs\\PrakDiFT\\lib\\site-packages\\diffusers\\models\\modeling_utils.py:96: FutureWarning: You are using `torch.load` with `weights_only=False` (the current default value), which uses the default pickle module implicitly. It is possible to construct malicious pickle data which will execute arbitrary code during unpickling (See https://github.com/pytorch/pytorch/blob/main/SECURITY.md#untrusted-models for more details). In a future release, the default value for `weights_only` will be flipped to `True`. This limits the functions that could be executed during unpickling. Arbitrary objects will no longer be allowed to be loaded via this mode unless they are explicitly allowlisted by the user via `torch.serialization.add_safe_globals`. We recommend you start setting `weights_only=True` for any use case where you don't have full control of the loaded file. Please open an issue on GitHub for any issues related to this experimental feature.\n",
      "  return torch.load(checkpoint_file, map_location=\"cpu\")\n"
     ]
    }
   ],
   "source": [
    "dift = SDFeaturizer()"
   ]
  },
  {
   "cell_type": "code",
   "execution_count": 5,
   "id": "829c1cf2-82a1-45ea-b284-19a055311855",
   "metadata": {},
   "outputs": [
    {
     "name": "stdout",
     "output_type": "stream",
     "text": [
      "let's visualize semantic correspondence on guitar\n"
     ]
    }
   ],
   "source": [
    "# you can choose visualize cat or guitar\n",
    "category = random.choice(['cat', 'guitar'])\n",
    "\n",
    "print(f\"let's visualize semantic correspondence on {category}\")"
   ]
  },
  {
   "cell_type": "code",
   "execution_count": 6,
   "id": "076f7afc-232c-4fff-83dc-c63b876ee12f",
   "metadata": {},
   "outputs": [],
   "source": [
    "if category == 'cat':\n",
    "    filelist = ['./assets/cat.png', './assets/target_cat.png', './assets/target_cat.png']\n",
    "elif category == 'guitar':\n",
    "    filelist = ['./assets/guitar.png', './assets/target_guitar.png', './assets/target_guitar.png']\n",
    "\n",
    "prompt = f'a photo of a {category}'"
   ]
  },
  {
   "cell_type": "code",
   "execution_count": 7,
   "id": "245f2c3f-8445-42c5-b31f-be438c7239d9",
   "metadata": {},
   "outputs": [],
   "source": [
    "ft = []\n",
    "imglist = []\n",
    "\n",
    "# decrease these two if you don't have enough RAM or GPU memory\n",
    "img_size = 768\n",
    "ensemble_size = 8\n",
    "\n",
    "for filename in filelist:\n",
    "    img = Image.open(filename).convert('RGB')\n",
    "    img = img.resize((img_size, img_size))\n",
    "    imglist.append(img)\n",
    "    img_tensor = (PILToTensor()(img) / 255.0 - 0.5) * 2\n",
    "    ft.append(dift.forward(img_tensor,\n",
    "                           prompt=prompt,\n",
    "                           ensemble_size=ensemble_size))\n",
    "ft = torch.cat(ft, dim=0)\n",
    "\n",
    "gc.collect()\n",
    "torch.cuda.empty_cache()"
   ]
  },
  {
   "cell_type": "code",
   "execution_count": 3,
   "id": "f81ae975-cce2-491d-9b6b-58412559b8b6",
   "metadata": {},
   "outputs": [
    {
     "ename": "NameError",
     "evalue": "name 'Demo' is not defined",
     "output_type": "error",
     "traceback": [
      "\u001b[1;31m---------------------------------------------------------------------------\u001b[0m",
      "\u001b[1;31mNameError\u001b[0m                                 Traceback (most recent call last)",
      "Cell \u001b[1;32mIn[3], line 1\u001b[0m\n\u001b[1;32m----> 1\u001b[0m demo \u001b[38;5;241m=\u001b[39m \u001b[43mDemo\u001b[49m(imglist, ft, img_size)\n",
      "\u001b[1;31mNameError\u001b[0m: name 'Demo' is not defined"
     ]
    }
   ],
   "source": [
    "demo = Demo(imglist, ft, img_size)"
   ]
  },
  {
   "cell_type": "code",
   "execution_count": 2,
   "id": "6f9b5ef9-db57-46dc-9ad2-9758b5d573c4",
   "metadata": {},
   "outputs": [
    {
     "ename": "NameError",
     "evalue": "name 'demo' is not defined",
     "output_type": "error",
     "traceback": [
      "\u001b[1;31m---------------------------------------------------------------------------\u001b[0m",
      "\u001b[1;31mNameError\u001b[0m                                 Traceback (most recent call last)",
      "Cell \u001b[1;32mIn[2], line 7\u001b[0m\n\u001b[0;32m      1\u001b[0m \u001b[38;5;124;03m'''\u001b[39;00m\n\u001b[0;32m      2\u001b[0m \u001b[38;5;124;03mleft is source image, right is target image.\u001b[39;00m\n\u001b[0;32m      3\u001b[0m \u001b[38;5;124;03myou can click on the source image, and DIFT will find the corresponding\u001b[39;00m\n\u001b[0;32m      4\u001b[0m \u001b[38;5;124;03mpoint on the right image, mark it with red point and also plot the per-pixel \u001b[39;00m\n\u001b[0;32m      5\u001b[0m \u001b[38;5;124;03mcosine distance as heatmap.\u001b[39;00m\n\u001b[0;32m      6\u001b[0m \u001b[38;5;124;03m'''\u001b[39;00m\n\u001b[1;32m----> 7\u001b[0m \u001b[43mdemo\u001b[49m\u001b[38;5;241m.\u001b[39mplot_img_pairs(fig_size\u001b[38;5;241m=\u001b[39m\u001b[38;5;241m5\u001b[39m)\n",
      "\u001b[1;31mNameError\u001b[0m: name 'demo' is not defined"
     ]
    }
   ],
   "source": [
    "'''\n",
    "left is source image, right is target image.\n",
    "you can click on the source image, and DIFT will find the corresponding\n",
    "point on the right image, mark it with red point and also plot the per-pixel \n",
    "cosine distance as heatmap.\n",
    "'''\n",
    "demo.plot_img_pairs(fig_size=5)"
   ]
  },
  {
   "cell_type": "code",
   "execution_count": null,
   "id": "c5e476f8-4f3a-48ed-8df5-2981061d489d",
   "metadata": {},
   "outputs": [],
   "source": []
  }
 ],
 "metadata": {
  "kernelspec": {
   "display_name": "PrakDiFT",
   "language": "python",
   "name": "python3"
  },
  "language_info": {
   "codemirror_mode": {
    "name": "ipython",
    "version": 3
   },
   "file_extension": ".py",
   "mimetype": "text/x-python",
   "name": "python",
   "nbconvert_exporter": "python",
   "pygments_lexer": "ipython3",
   "version": "3.10.15"
  }
 },
 "nbformat": 4,
 "nbformat_minor": 5
}
